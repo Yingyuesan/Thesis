{
 "cells": [
  {
   "cell_type": "code",
   "execution_count": 19,
   "id": "d043f98e",
   "metadata": {},
   "outputs": [],
   "source": [
    "import requests"
   ]
  },
  {
   "cell_type": "code",
   "execution_count": 20,
   "id": "e86539ad",
   "metadata": {},
   "outputs": [
    {
     "name": "stdout",
     "output_type": "stream",
     "text": [
      "There are 1258 sources with country_code 'CN' (China)\n"
     ]
    }
   ],
   "source": [
    "country_code = 'CN'\n",
    "url = f\"https://api.openalex.org/sources\"\n",
    "params = {\n",
    "    'filter': f'country_code:{country_code}',\n",
    "}\n",
    "r = requests.get(url, params=params)\n",
    "num_sources = r.json()['meta']['count']\n",
    "print(f\"There are {num_sources} sources with country_code 'CN' (China)\")"
   ]
  },
  {
   "cell_type": "code",
   "execution_count": 21,
   "id": "7d37a5c3",
   "metadata": {},
   "outputs": [
    {
     "name": "stdout",
     "output_type": "stream",
     "text": [
      "Number of sources in China for each *type* of source:\n",
      "  \"journal\": 1258 sources\n"
     ]
    }
   ],
   "source": [
    "params = {\n",
    "    'filter': f'country_code:{country_code}',\n",
    "    'group_by': 'type',\n",
    "}\n",
    "r = requests.get(url, params=params)\n",
    "print(\"Number of sources in China for each *type* of source:\")\n",
    "for item in r.json()['group_by']:\n",
    "    print(f'  \"{item[\"key\"]}\": {item[\"count\"]} sources')"
   ]
  },
  {
   "cell_type": "code",
   "execution_count": 22,
   "id": "33c895a2",
   "metadata": {},
   "outputs": [
    {
     "name": "stdout",
     "output_type": "stream",
     "text": [
      "collected 1258 sources (using 52 api calls)\n"
     ]
    }
   ],
   "source": [
    "# page through to get all sources\n",
    "# use paging technique from `paging.ipynb`\n",
    "# url with a placeholder for page number\n",
    "country_code = 'CN'\n",
    "url = f\"https://api.openalex.org/sources\"\n",
    "params = {\n",
    "    'filter': f'country_code:{country_code}',\n",
    "    'page': 1,  # initaliaze `page` param to 1\n",
    "}\n",
    "\n",
    "has_more_pages = True\n",
    "fewer_than_10k_results = True\n",
    "\n",
    "# We will collect the data in a variable called `japanese_sources`.\n",
    "# Initialize this as an empty list, which we will append to\n",
    "chinese_sources = []\n",
    "\n",
    "# loop through pages\n",
    "loop_index = 0\n",
    "while has_more_pages and fewer_than_10k_results:\n",
    "    \n",
    "    page_with_results = requests.get(url, params=params).json()\n",
    "    \n",
    "    # loop through partial list of results\n",
    "    results = page_with_results['results']\n",
    "    for api_result in results:\n",
    "        # # Collect the fields we are interested in, for this source\n",
    "        # source = {field: api_result[field] for field in fields}\n",
    "        # Append this source to our `japanese_sources` list\n",
    "        chinese_sources.append(api_result)\n",
    "\n",
    "    # next page\n",
    "    params['page'] += 1\n",
    "    \n",
    "    # end loop when either there are no more results on the requested page \n",
    "    # or the next request would exceed 10,000 results\n",
    "    per_page = page_with_results['meta']['per_page']\n",
    "    has_more_pages = len(results) == per_page\n",
    "    fewer_than_10k_results = per_page * params['page'] <= 10000\n",
    "    loop_index += 1\n",
    "print(f\"collected {len(chinese_sources)} sources (using {loop_index+1} api calls)\")"
   ]
  },
  {
   "cell_type": "code",
   "execution_count": 23,
   "id": "2cb09bbb",
   "metadata": {},
   "outputs": [
    {
     "name": "stdout",
     "output_type": "stream",
     "text": [
      "Dataframe has 1258 rows and 7 columns.\n",
      "\n",
      "The first five sources are named:\n",
      "  Journal of Anhui Agricultural Sciences\n",
      "  Anesthesia & Analgesia\n",
      "  National Medical Journal of China\n",
      "  Chinese Physics\n",
      "  Kexue tongbao\n"
     ]
    }
   ],
   "source": [
    "import pandas as pd\n",
    "\n",
    "# Each source in our list of `japanese sources` contains a lot of data, some of it complex and nested.\n",
    "# So let's limit our dataframe to include only some of the fields.\n",
    "\n",
    "# Define the fields that we are interested in collecting:\n",
    "fields = [\n",
    "    'id',\n",
    "    'issn_l',\n",
    "    'display_name',\n",
    "    'host_organization',\n",
    "    'works_count',\n",
    "    'cited_by_count',\n",
    "    'type',\n",
    "]\n",
    "\n",
    "# One way to limit the dataframe to include only our `fields` is to use the `from_records()` method\n",
    "# and specify only the columns we want.\n",
    "df_sources = pd.DataFrame.from_records(chinese_sources, columns=fields)\n",
    "\n",
    "num_rows, num_columns = df_sources.shape\n",
    "print(f\"Dataframe has {num_rows} rows and {num_columns} columns.\")\n",
    "print()  # blank line\n",
    "print(\"The first five sources are named:\")\n",
    "for name in df_sources['display_name'].head(5):\n",
    "    print(f\"  {name}\")"
   ]
  },
  {
   "cell_type": "code",
   "execution_count": 24,
   "id": "04ed4990",
   "metadata": {},
   "outputs": [],
   "source": [
    "df_sources.to_csv(\"china_sources.csv\")"
   ]
  },
  {
   "cell_type": "code",
   "execution_count": 25,
   "id": "accabbab",
   "metadata": {},
   "outputs": [
    {
     "name": "stdout",
     "output_type": "stream",
     "text": [
      "The Chinese sources are associated with 357 different host organizations (publishers).\n"
     ]
    }
   ],
   "source": [
    "num_host_orgs = df_sources['host_organization'].nunique()\n",
    "print(f\"The Chinese sources are associated with {num_host_orgs} different host organizations (publishers).\")"
   ]
  },
  {
   "cell_type": "code",
   "execution_count": 26,
   "id": "529d5871",
   "metadata": {},
   "outputs": [
    {
     "name": "stdout",
     "output_type": "stream",
     "text": [
      "There are 2,794,531 works (articles) with Chinese sources.\n"
     ]
    }
   ],
   "source": [
    "num_works = df_sources['works_count'].sum()\n",
    "print(f\"There are {num_works:,} works (articles) with Chinese sources.\")  # putting \":,\" after num_works tells the formatter to use commas as thousands separators\n"
   ]
  },
  {
   "cell_type": "code",
   "execution_count": 27,
   "id": "90ac5a82",
   "metadata": {},
   "outputs": [
    {
     "name": "stdout",
     "output_type": "stream",
     "text": [
      "Created a dataframe counting works from year 2012 to year 2024.\n"
     ]
    }
   ],
   "source": [
    "# Put the data for `counts_by_year` into a Pandas dataframe.\n",
    "data = []\n",
    "for source in chinese_sources:\n",
    "    for year_count in source['counts_by_year']:\n",
    "        data.append({\n",
    "            'id': source['id'],\n",
    "            'year': int(year_count['year']),\n",
    "            'works_count': int(year_count['works_count']),\n",
    "            'cited_by_count': int(year_count['cited_by_count']),\n",
    "        })\n",
    "df_counts_by_year = pd.DataFrame(data)\n",
    "\n",
    "# Each row in the dataframe represents one year of one source.\n",
    "# We can group by year and sum the number of works to get the\n",
    "# total counts by year.\n",
    "\n",
    "all_counts_china = df_counts_by_year.groupby('year')['works_count'].sum()\n",
    "print(f\"Created a dataframe counting works from year {all_counts_china.index.min()} to year {all_counts_china.index.max()}.\")"
   ]
  },
  {
   "cell_type": "code",
   "execution_count": 28,
   "id": "70ad2317",
   "metadata": {},
   "outputs": [
    {
     "name": "stderr",
     "output_type": "stream",
     "text": [
      "/Users/oyuesan/opt/anaconda3/lib/python3.9/site-packages/seaborn/_decorators.py:36: FutureWarning: Pass the following variable as a keyword arg: x. From version 0.12, the only valid positional argument will be `data`, and passing other arguments without an explicit keyword will result in an error or misinterpretation.\n",
      "  warnings.warn(\n"
     ]
    },
    {
     "data": {
      "text/plain": [
       "Text(0.5, 1.0, 'Number of works in Chinese journals')"
      ]
     },
     "execution_count": 28,
     "metadata": {},
     "output_type": "execute_result"
    },
    {
     "data": {
      "image/png": "[encoded data removed]",
      "text/plain": [
       "<Figure size 432x288 with 1 Axes>"
      ]
     },
     "metadata": {},
     "output_type": "display_data"
    }
   ],
   "source": [
    "# Import seaborn\n",
    "import seaborn as sns\n",
    "\n",
    "# Apply the default theme\n",
    "sns.set_theme()\n",
    "\n",
    "# Visualize the data\n",
    "g = sns.lineplot(all_counts_china)\n",
    "g.set_ylim(bottom=0)\n",
    "g.set_xlim(2012, 2022)\n",
    "g.set_ylabel(\"number of works\")\n",
    "g.set_title(\"Number of works in Chinese journals\")"
   ]
  },
  {
   "cell_type": "code",
   "execution_count": 29,
   "id": "125a53f4",
   "metadata": {},
   "outputs": [],
   "source": [
    "url = f\"https://api.openalex.org/works\"\n",
    "filters = [\n",
    "    'primary_location.source.type:journal',\n",
    "    'from_publication_date:2012-01-01',\n",
    "]\n",
    "params = {\n",
    "    'filter': \",\".join(filters),\n",
    "    'group_by': 'publication_year',\n",
    "}\n",
    "# make the API query\n",
    "r = requests.get(url, params=params)\n",
    "\n",
    "# Get the data into a pandas dataframe\n",
    "counts_data = []\n",
    "for row in r.json()['group_by']:\n",
    "    counts_data.append({\n",
    "        'year': int(row['key']),\n",
    "        'works_count': int(row['count']),\n",
    "    })\n",
    "all_counts_all_countries = pd.DataFrame(counts_data)\n",
    "# change the data into a series, with the year as index and the number of works as values.\n",
    "# this will match the `all_counts_japan` data\n",
    "all_counts_all_countries = all_counts_all_countries.set_index('year')['works_count']"
   ]
  },
  {
   "cell_type": "code",
   "execution_count": 30,
   "id": "75fea83c",
   "metadata": {},
   "outputs": [
    {
     "name": "stderr",
     "output_type": "stream",
     "text": [
      "/Users/oyuesan/opt/anaconda3/lib/python3.9/site-packages/seaborn/_decorators.py:36: FutureWarning: Pass the following variable as a keyword arg: x. From version 0.12, the only valid positional argument will be `data`, and passing other arguments without an explicit keyword will result in an error or misinterpretation.\n",
      "  warnings.warn(\n"
     ]
    },
    {
     "data": {
      "text/plain": [
       "Text(0, 0.5, 'Relative number of works')"
      ]
     },
     "execution_count": 30,
     "metadata": {},
     "output_type": "execute_result"
    },
    {
     "data": {
      "image/png": "[encoded data removed]",
      "text/plain": [
       "<Figure size 432x288 with 1 Axes>"
      ]
     },
     "metadata": {},
     "output_type": "display_data"
    }
   ],
   "source": [
    "relative_china = all_counts_china / all_counts_all_countries\n",
    "g = sns.lineplot(relative_china)\n",
    "g.set_ylim(bottom=0)\n",
    "g.set_xlim(2012, 2022)\n",
    "g.set_title(\"Number of works in Chinese journals relative to total number of works in journals\")\n",
    "g.set_ylabel(\"Relative number of works\")"
   ]
  },
  {
   "cell_type": "code",
   "execution_count": null,
   "id": "cead9ff5",
   "metadata": {},
   "outputs": [],
   "source": []
  }
 ],
 "metadata": {
  "kernelspec": {
   "display_name": "Python 3 (ipykernel)",
   "language": "python",
   "name": "python3"
  },
  "language_info": {
   "codemirror_mode": {
    "name": "ipython",
    "version": 3
   },
   "file_extension": ".py",
   "mimetype": "text/x-python",
   "name": "python",
   "nbconvert_exporter": "python",
   "pygments_lexer": "ipython3",
   "version": "3.9.12"
  }
 },
 "nbformat": 4,
 "nbformat_minor": 5
}
